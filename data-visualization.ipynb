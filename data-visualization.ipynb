{
 "cells": [
  {
   "cell_type": "markdown",
   "metadata": {},
   "source": [
    "# Business Intelligence Showcase\n",
    "\n",
    "## Automated Ride Attendance Summary and Analysis\n",
    "\n",
    "### Before\n",
    "Originally manually parsing through **20 spreadsheets** with **34 sheets each** to get only a couple of data points for an end-of-year summary.\n",
    "\n",
    "Endless, mindless clicking, sheet after sheet, coping and pasting into a different file... One by one. It would take **days to complete!**\n",
    "<img src=\"resources/original-spreadsheet.png\" alt=\"Drawing\" style=\"width: 600px;\"/>\n"
   ]
  },
  {
   "cell_type": "markdown",
   "metadata": {},
   "source": [
    "### Now\n",
    "It takes **30 seconds**. Click a button to read and organize the data. Another 2 seconds to put it into a formatted summary sheet. You just saved a week of mindless, error prone, painful work.\n",
    "\n",
    "It doesn't stop there. Now you have all the relevant data is neatly organized in rows and columns! Sure, they are difficult to read for the naked eye, but you can **create beautiful graphs** from them.\n",
    "\n",
    "Did you ever want to figure out **what times are most popular in the summer on each ride?**\n",
    "\n",
    "#### Click in the above menu     ( Cell > Run All )"
   ]
  },
  {
   "cell_type": "code",
   "execution_count": 25,
   "metadata": {},
   "outputs": [
    {
     "data": {
      "text/html": [
       "\n",
       "        <iframe\n",
       "            width=\"800\"\n",
       "            height=\"620\"\n",
       "            src=\"http://dash.agestech.org/\"\n",
       "            frameborder=\"0\"\n",
       "            allowfullscreen\n",
       "        ></iframe>\n",
       "        "
      ],
      "text/plain": [
       "<IPython.lib.display.IFrame at 0x7f75835837f0>"
      ]
     },
     "execution_count": 25,
     "metadata": {},
     "output_type": "execute_result"
    }
   ],
   "source": [
    "from IPython.display import IFrame\n",
    "IFrame('http://dash.agestech.org/', width=800, height=620)"
   ]
  },
  {
   "cell_type": "markdown",
   "metadata": {},
   "source": [
    "## What other questions can you formulate? What do you want to learn from your data?\n",
    "\n",
    "- What times are rides more popular?\n",
    "- What dates are rides more popular?\n",
    "- Do guests flow from one ride to another throughout the day?\n",
    "- What attendance can you project for next summer?\n",
    "\n",
    "### You have the data. Lets paint a picture with it!"
   ]
  },
  {
   "cell_type": "markdown",
   "metadata": {},
   "source": [
    "---"
   ]
  },
  {
   "cell_type": "markdown",
   "metadata": {},
   "source": [
    "\n",
    "\n",
    "\n",
    "# Below is how we accomplish it using Python code\n",
    "\n",
    "If you don't know programming, don't worry. You don't have to ever see it.\n",
    "This all happens behind the scenes.\n",
    "\n",
    "### Import tools"
   ]
  },
  {
   "cell_type": "code",
   "execution_count": 20,
   "metadata": {},
   "outputs": [],
   "source": [
    "import warnings\n",
    "# numpy, a pandas dependecy is having a bit of an annoying warning at the moment\n",
    "warnings.filterwarnings(\"ignore\", message=\"numpy.dtype size changed\")\n",
    "\n",
    "import pandas as pd\n",
    "from ride_throughput_parser import ride_throughput_parser as parser\n",
    "from silly_names import silly_names"
   ]
  },
  {
   "cell_type": "markdown",
   "metadata": {},
   "source": [
    "### Organize data\n",
    "\n",
    "Days of tedious work completed in seconds.\n",
    "This is the only part that takes longer than 2 seconds to run."
   ]
  },
  {
   "cell_type": "code",
   "execution_count": 14,
   "metadata": {
    "scrolled": true
   },
   "outputs": [
    {
     "name": "stdout",
     "output_type": "stream",
     "text": [
      "        ride_name                date  throughput\n",
      "0  Dangerous Deer 2017-04-14 10:00:00         NaN\n",
      "1  Dangerous Deer 2017-04-14 11:00:00       116.0\n",
      "2  Dangerous Deer 2017-04-14 12:00:00       200.0\n",
      "3  Dangerous Deer 2017-04-14 13:00:00       234.0\n",
      "4  Dangerous Deer 2017-04-14 14:00:00       241.0\n"
     ]
    }
   ],
   "source": [
    "df = parser.run()\n",
    "df = silly_names(df)\n",
    "print(df.head())\n",
    "df['ride_name'] = df['ride_name'].astype('category')\n",
    "ride_names = df['ride_name'].cat.categories"
   ]
  },
  {
   "cell_type": "markdown",
   "metadata": {},
   "source": [
    "### Manipulate the data before plotting"
   ]
  },
  {
   "cell_type": "code",
   "execution_count": 23,
   "metadata": {
    "scrolled": true
   },
   "outputs": [],
   "source": [
    "from datetime import datetime\n",
    "\n",
    "import matplotlib.pyplot as plt\n",
    "import ipywidgets as widgets\n",
    "from IPython.display import display\n",
    "from matplotlib.pyplot import figure\n",
    "\n",
    "# Constants\n",
    "all_dates = df['date'].map(pd.Timestamp.date).unique()\n",
    "\n",
    "# Tools\n",
    "def date_range(df, begin, end):\n",
    "    return df[(df['date'] > pd.Timestamp(begin)) & (df['date'] <= pd.Timestamp(end))]\n",
    "\n",
    "\n",
    "def day_data(df, date):\n",
    "    return df[df['date'] == date]\n",
    "\n",
    "# Plotting\n",
    "def plot_dates(data):\n",
    "    plt.figure(num=None, figsize=(8, 6), dpi=80, facecolor='w', edgecolor='k')\n",
    "    times = [str(time) for time in data['date'].map(pd.Timestamp.time)]\n",
    "    plt.plot(times, data['throughput'])\n",
    "    plt.xlim([min(times), max(times)])\n",
    "    plt.title(data['ride_name'][0] + ' Throughput')\n",
    "    plt.xticks(rotation=25)\n",
    "    plt.xlabel('Time')\n",
    "    plt.ylabel('Throughput')\n",
    "    plt.show()\n",
    "\n",
    "    \n",
    "# Filter    \n",
    "def mine(start_date, end_date, ride_name):\n",
    "    filtered = date_range(df, start_date, end_date)\n",
    "    data = filtered[filtered['ride_name'] == ride_name]\n",
    "    plot_dates(data)\n",
    "    \n",
    "\n",
    "# Widgets\n",
    "start_date = widgets.DatePicker(\n",
    "    description='Start date',\n",
    "    value=df['date'].map(pd.Timestamp.date).unique()[0],\n",
    "    disabled=False\n",
    ")\n",
    "\n",
    "end_date = widgets.DatePicker(\n",
    "    description='End date',\n",
    "    value=df['date'].map(pd.Timestamp.date).unique()[1],\n",
    "    disabled=False\n",
    ")\n",
    "\n",
    "ride_name = widgets.Dropdown(\n",
    "    options=[str(name) for name in df['ride_name'].unique()],\n",
    "    value=df['ride_name'][0],\n",
    "    description='Ride name:',\n",
    "    disabled=False,\n",
    ")"
   ]
  },
  {
   "cell_type": "markdown",
   "metadata": {},
   "source": [
    "### Simple Plot - Hours vs. Throughput"
   ]
  },
  {
   "cell_type": "code",
   "execution_count": 24,
   "metadata": {},
   "outputs": [
    {
     "data": {
      "application/vnd.jupyter.widget-view+json": {
       "model_id": "fbbbf00d83454c83ba9fc1c2fb21570e",
       "version_major": 2,
       "version_minor": 0
      },
      "text/plain": [
       "interactive(children=(DatePicker(value=datetime.date(2017, 4, 14), description='Start date'), DatePicker(value…"
      ]
     },
     "metadata": {},
     "output_type": "display_data"
    }
   ],
   "source": [
    "# Show widgets\n",
    "x = widgets.interactive(mine, start_date=start_date, end_date=end_date, ride_name=ride_name)\n",
    "display(x)"
   ]
  },
  {
   "cell_type": "markdown",
   "metadata": {},
   "source": [
    "---\n",
    "\n",
    "## Appendix\n",
    "\n",
    "### Other types of plots"
   ]
  },
  {
   "cell_type": "code",
   "execution_count": null,
   "metadata": {},
   "outputs": [],
   "source": [
    "# plot each ride individually for multiple times\n",
    "comment = \"\"\"\n",
    "def plot_dates(dates=['2017-04-14']):\n",
    "    for ride_name in ride_names:\n",
    "        ride = df[df['ride_name'] == ride_name]\n",
    "        for date in dates:\n",
    "            (x, y) = daily_data(df['date'].ix['2014-01-01':'2014-02-01'] )\n",
    "            plt.plot(ride, ride['n'], label=time)\n",
    "        plt.title(ride_name)\n",
    "        plt.xticks(rotation=25)\n",
    "        plt.xlabel('Date')\n",
    "        plt.legend(bbox_to_anchor=(1.25, 0.8), loc='right')\n",
    "        plt.show()\n",
    "\n",
    "def daily_data(df):    \n",
    "    previous_day = df[0]['date'].day\n",
    "    daily_data = []\n",
    "    daily_times = []\n",
    "\n",
    "    for row in df:\n",
    "        if row['date'].day == previous_day:\n",
    "            daily_data.append(row['data_to_plot'])\n",
    "            daily_times.append(row['date'])\n",
    "\n",
    "        else:\n",
    "            plt.plot(daily_times, daily_data)\n",
    "            previous_day = row['date'].day\n",
    "            daily_data = []\n",
    "            daily_times = []\n",
    "\n",
    "    return (daily_times, daily_data)\n",
    "\n",
    "# plot each ride individually\n",
    "# TODO: Not working\n",
    "def plot_individually(time='11a-12p'):\n",
    "    for ride_name in ride_names:\n",
    "        ride = df[df['ride_name'] == ride_name]\n",
    "        plt.plot(ride['date'], ride[time])\n",
    "        plt.title(ride_name)\n",
    "        plt.xticks(rotation=25)\n",
    "        plt.xlabel('this is the x label (dates)')\n",
    "        plt.show()\n",
    "        \n",
    "# plot each ride individually for multiple times\n",
    "def plot_dates(dates=['2017-04-14']):\n",
    "    for ride_name in ride_names:\n",
    "        ride = df[df['ride_name'] == ride_name]\n",
    "        for date in dates:\n",
    "            (x, y) = daily_data(df['date'].ix['2014-01-01':'2014-02-01'] )\n",
    "            plt.plot(ride, ride['n'], label=time)\n",
    "        plt.title(ride_name)\n",
    "        plt.xticks(rotation=25)\n",
    "        plt.xlabel('Date')\n",
    "        plt.legend(bbox_to_anchor=(1.25, 0.8), loc='right')\n",
    "        plt.show()\n",
    "\n",
    "# plot each ride individually for multiple times\n",
    "def plot_times(times=['11a-12p']):\n",
    "    for ride_name in ride_names:\n",
    "        ride = df[df['ride_name'] == ride_name]\n",
    "        for time in times:\n",
    "            plt.plot(ride['date'], ride[time], label=time)\n",
    "        plt.title(ride_name)\n",
    "        plt.xticks(rotation=25)\n",
    "        plt.xlabel('Date')\n",
    "        plt.legend(bbox_to_anchor=(1.25, 0.8), loc='right')\n",
    "        plt.show()\n",
    "        \n",
    "# plot all rides in one plot\n",
    "# TODO: Not working\n",
    "def plot_all(time='11a-12p'):\n",
    "    for ride_name in ride_names:\n",
    "        ride = df[df['ride_name'] == ride_name]\n",
    "        plt.plot(ride['date'], ride[time], label=ride_name)\n",
    "    plt.title('Rides at ' + time)\n",
    "    plt.xticks(rotation=25)\n",
    "    plt.legend(bbox_to_anchor=(2.05, 1), loc='right')\n",
    "    plt.show()\n",
    "    \n",
    "plot_dates()\n",
    "\"\"\""
   ]
  }
 ],
 "metadata": {
  "kernelspec": {
   "display_name": "Python 3",
   "language": "python",
   "name": "python3"
  },
  "language_info": {
   "codemirror_mode": {
    "name": "ipython",
    "version": 3
   },
   "file_extension": ".py",
   "mimetype": "text/x-python",
   "name": "python",
   "nbconvert_exporter": "python",
   "pygments_lexer": "ipython3",
   "version": "3.7.0"
  }
 },
 "nbformat": 4,
 "nbformat_minor": 2
}
